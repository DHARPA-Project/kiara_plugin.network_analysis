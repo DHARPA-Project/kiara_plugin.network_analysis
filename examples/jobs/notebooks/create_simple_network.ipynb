{
 "cells": [
  {
   "cell_type": "code",
   "execution_count": 5,
   "metadata": {
    "collapsed": true,
    "ExecuteTime": {
     "end_time": "2023-06-11T10:56:00.364147718Z",
     "start_time": "2023-06-11T10:56:00.321529685Z"
    }
   },
   "outputs": [],
   "source": [
    "# imports\n",
    "\n",
    "from pathlib import Path\n",
    "import os\n",
    "\n",
    "# here we import the 'utilities.ipynb' from the same folder, to get some helper functions\n",
    "%run utilities.ipynb"
   ]
  },
  {
   "cell_type": "code",
   "execution_count": 6,
   "outputs": [],
   "source": [
    "# global variables\n",
    "\n",
    "THIS_DIR = Path(os.path.dirname(os.path.abspath('__file__')))\n",
    "DATA_DIR = THIS_DIR / \"..\" / \"..\" / 'data'\n",
    "\n",
    "edges_file = DATA_DIR / \"simple_networks\" / \"connected\" / \"SampleEdges.csv\"\n",
    "nodes_file = DATA_DIR / \"simple_networks\" / \"connected\" / \"SampleNodes.csv\"\n"
   ],
   "metadata": {
    "collapsed": false,
    "ExecuteTime": {
     "end_time": "2023-06-11T10:56:00.380016284Z",
     "start_time": "2023-06-11T10:56:00.363547052Z"
    }
   }
  },
  {
   "cell_type": "code",
   "execution_count": 8,
   "outputs": [
    {
     "data": {
      "text/plain": "{'directed': <networkx.classes.digraph.DiGraph at 0x7f56849b9ea0>,\n 'undirected': <networkx.classes.graph.Graph at 0x7f56c5da1bd0>,\n 'directed_multi': <networkx.classes.multidigraph.MultiDiGraph at 0x7f56849afa30>,\n 'undirected_multi': <networkx.classes.multigraph.MultiGraph at 0x7f56849bad10>}"
     },
     "execution_count": 8,
     "metadata": {},
     "output_type": "execute_result"
    }
   ],
   "source": [
    "graphs = create_graphs(edges_path=edges_file, nodes_path=nodes_file, source_column=\"source\", target_column=\"target\")\n",
    "graphs\n"
   ],
   "metadata": {
    "collapsed": false,
    "ExecuteTime": {
     "end_time": "2023-06-11T10:56:04.876050443Z",
     "start_time": "2023-06-11T10:56:04.850145088Z"
    }
   }
  },
  {
   "cell_type": "code",
   "execution_count": 9,
   "outputs": [
    {
     "data": {
      "text/plain": "{'directed': {'number_of_edges': 8},\n 'undirected': {'number_of_edges': 6},\n 'directed_multi': {'number_of_edges': 11},\n 'undirected_multi': {'number_of_edges': 11},\n 'number_of_self_loops': 2,\n 'number_of_nodes': 4}"
     },
     "execution_count": 9,
     "metadata": {},
     "output_type": "execute_result"
    }
   ],
   "source": [
    "properties = get_graphs_properties(graphs)\n",
    "properties\n"
   ],
   "metadata": {
    "collapsed": false,
    "ExecuteTime": {
     "end_time": "2023-06-11T10:56:09.991441217Z",
     "start_time": "2023-06-11T10:56:09.986297241Z"
    }
   }
  }
 ],
 "metadata": {
  "kernelspec": {
   "display_name": "Python 3",
   "language": "python",
   "name": "python3"
  },
  "language_info": {
   "codemirror_mode": {
    "name": "ipython",
    "version": 2
   },
   "file_extension": ".py",
   "mimetype": "text/x-python",
   "name": "python",
   "nbconvert_exporter": "python",
   "pygments_lexer": "ipython2",
   "version": "2.7.6"
  }
 },
 "nbformat": 4,
 "nbformat_minor": 0
}
