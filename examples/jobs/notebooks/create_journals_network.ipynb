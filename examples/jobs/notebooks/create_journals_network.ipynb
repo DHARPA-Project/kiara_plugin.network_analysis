{
 "cells": [
  {
   "cell_type": "code",
   "execution_count": 6,
   "metadata": {
    "collapsed": true,
    "ExecuteTime": {
     "end_time": "2023-06-11T10:55:43.190045436Z",
     "start_time": "2023-06-11T10:55:43.144620299Z"
    }
   },
   "outputs": [],
   "source": [
    "# imports\n",
    "\n",
    "from pathlib import Path\n",
    "import os\n",
    "\n",
    "# here we import the 'utilities.ipynb' from the same folder, to get some helper functions\n",
    "%run utilities.ipynb"
   ]
  },
  {
   "cell_type": "code",
   "execution_count": 7,
   "outputs": [],
   "source": [
    "# global variables\n",
    "\n",
    "THIS_DIR = Path(os.path.dirname(os.path.abspath('__file__')))\n",
    "DATA_DIR = THIS_DIR / \"..\" / \"..\" / 'data'\n",
    "\n",
    "edges_file = DATA_DIR / \"journals\" / \"JournalEdges1902.csv\"\n",
    "nodes_file = DATA_DIR / \"journals\" / \"JournalNodes1902.csv\""
   ],
   "metadata": {
    "collapsed": false,
    "ExecuteTime": {
     "end_time": "2023-06-11T10:55:43.202452881Z",
     "start_time": "2023-06-11T10:55:43.190554460Z"
    }
   }
  },
  {
   "cell_type": "code",
   "execution_count": 8,
   "outputs": [
    {
     "data": {
      "text/plain": "{'directed': <networkx.classes.digraph.DiGraph at 0x7fd551771630>,\n 'undirected': <networkx.classes.graph.Graph at 0x7fd551771c90>,\n 'directed_multi': <networkx.classes.multidigraph.MultiDiGraph at 0x7fd5517bb070>,\n 'undirected_multi': <networkx.classes.multigraph.MultiGraph at 0x7fd5a80770a0>}"
     },
     "execution_count": 8,
     "metadata": {},
     "output_type": "execute_result"
    }
   ],
   "source": [
    "graphs = create_graphs(edges_path=edges_file, nodes_path=nodes_file, source_column=\"Source\", target_column=\"Target\")\n",
    "graphs\n"
   ],
   "metadata": {
    "collapsed": false,
    "ExecuteTime": {
     "end_time": "2023-06-11T10:55:43.338637130Z",
     "start_time": "2023-06-11T10:55:43.202784332Z"
    }
   }
  },
  {
   "cell_type": "code",
   "execution_count": 9,
   "outputs": [
    {
     "data": {
      "text/plain": "{'directed': {'number_of_edges': 321},\n 'undirected': {'number_of_edges': 313},\n 'directed_multi': {'number_of_edges': 321},\n 'undirected_multi': {'number_of_edges': 321},\n 'number_of_self_loops': 1,\n 'number_of_nodes': 276}"
     },
     "execution_count": 9,
     "metadata": {},
     "output_type": "execute_result"
    }
   ],
   "source": [
    "properties = get_graphs_properties(graphs)\n",
    "properties\n"
   ],
   "metadata": {
    "collapsed": false,
    "ExecuteTime": {
     "end_time": "2023-06-11T10:55:43.392045116Z",
     "start_time": "2023-06-11T10:55:43.341384412Z"
    }
   }
  }
 ],
 "metadata": {
  "kernelspec": {
   "display_name": "Python 3",
   "language": "python",
   "name": "python3"
  },
  "language_info": {
   "codemirror_mode": {
    "name": "ipython",
    "version": 2
   },
   "file_extension": ".py",
   "mimetype": "text/x-python",
   "name": "python",
   "nbconvert_exporter": "python",
   "pygments_lexer": "ipython2",
   "version": "2.7.6"
  }
 },
 "nbformat": 4,
 "nbformat_minor": 0
}
