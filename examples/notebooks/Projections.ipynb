{
 "cells": [
  {
   "cell_type": "markdown",
   "id": "7811fac0-f4d9-48e5-8988-6c6590ebb6f8",
   "metadata": {},
   "source": [
    "# Projections of bipartite graphs (3 versions)"
   ]
  },
  {
   "cell_type": "code",
   "execution_count": 1,
   "id": "d2f4035a-8910-48f8-b627-2e7cd88cbe95",
   "metadata": {},
   "outputs": [],
   "source": [
    "import csv\n",
    "import pandas as pd\n",
    "import networkx as nx\n",
    "import matplotlib.pyplot as plt\n",
    "from networkx.algorithms import bipartite"
   ]
  },
  {
   "cell_type": "code",
   "execution_count": 2,
   "id": "83babe65-a1b6-483a-ba0a-ed94bc99aab2",
   "metadata": {},
   "outputs": [],
   "source": [
    "import numpy as np\n",
    "from collections import defaultdict"
   ]
  },
  {
   "cell_type": "code",
   "execution_count": 3,
   "id": "34b60395-8350-4ea4-a07a-10382bb1ddf0",
   "metadata": {},
   "outputs": [],
   "source": [
    "nodelist_df = pd.read_csv('wiki_editors_nodelist.csv')\n",
    "edgelist_df = pd.read_csv('wiki_editors_edgelist.csv')"
   ]
  },
  {
   "cell_type": "code",
   "execution_count": 4,
   "id": "9e2220bf-48af-4277-8c8a-05fa790251e6",
   "metadata": {},
   "outputs": [],
   "source": [
    "EDITOR_ID_COL = 'ID'\n",
    "EDITOR_NAME_COL = 'Label'\n",
    "EDITS_MADE_COL = 'Edits'\n",
    "SOURCE_COL = 'Source'\n",
    "TARGET_COL = 'Target'"
   ]
  },
  {
   "cell_type": "code",
   "execution_count": 5,
   "id": "360bfa81-cdec-4537-aa2d-08320a27c48c",
   "metadata": {},
   "outputs": [],
   "source": [
    "# Create bipartite graph\n",
    "B = nx.Graph()"
   ]
  },
  {
   "cell_type": "code",
   "execution_count": 8,
   "id": "5d788ca0-78e1-4b9f-bb97-a55e3eec2145",
   "metadata": {},
   "outputs": [],
   "source": [
    "# Add editor nodes (use 'bipartite=0' to mark them as one set)\n",
    "editor_nodes = [(row[EDITOR_ID_COL], {'bipartite': 0, 'node_type': 'editor', 'label': row[EDITOR_NAME_COL]}) \n",
    "                for _, row in nodelist_df.iterrows()]\n",
    "B.add_nodes_from(editor_nodes)"
   ]
  },
  {
   "cell_type": "code",
   "execution_count": 9,
   "id": "26e11b64-3095-4561-8805-3e570dfa997c",
   "metadata": {},
   "outputs": [],
   "source": [
    "# Add page nodes (use 'bipartite=1' to mark them as the other set)\n",
    "unique_pages = edgelist_df[TARGET_COL].unique()\n",
    "page_nodes = [(page, {'bipartite': 1, 'node_type': 'page'}) for page in unique_pages]\n",
    "B.add_nodes_from(page_nodes)"
   ]
  },
  {
   "cell_type": "code",
   "execution_count": 10,
   "id": "ba9b030f-49e8-4c89-9105-f4d45e2b93a1",
   "metadata": {},
   "outputs": [],
   "source": [
    "# Add weighted edges between editors and pages\n",
    "edges_with_weights = [(row[SOURCE_COL], row[TARGET_COL], {'weight': row['weight']}) \n",
    "                      for _, row in edgelist_df.iterrows()]\n",
    "B.add_edges_from(edges_with_weights)"
   ]
  },
  {
   "cell_type": "code",
   "execution_count": 12,
   "id": "1f9f1219-aa9f-42ca-84ee-27acf725b6c0",
   "metadata": {},
   "outputs": [
    {
     "name": "stdout",
     "output_type": "stream",
     "text": [
      "Bipartite network created:\n",
      "  Total nodes: 1066\n",
      "  Editor nodes: 979\n",
      "  Page nodes: 87\n",
      "  Edges: 1315\n",
      "  Is bipartite: True\n"
     ]
    }
   ],
   "source": [
    "print(f\"Bipartite network created:\")\n",
    "print(f\"  Total nodes: {B.number_of_nodes()}\")\n",
    "print(f\"  Editor nodes: {len(nodelist_df)}\")\n",
    "print(f\"  Page nodes: {len(unique_pages)}\")\n",
    "print(f\"  Edges: {B.number_of_edges()}\")\n",
    "print(f\"  Is bipartite: {bipartite.is_bipartite(B)}\")"
   ]
  },
  {
   "cell_type": "code",
   "execution_count": 13,
   "id": "7cb243e7-b3bf-4a2c-8fef-92e2acbd7f37",
   "metadata": {},
   "outputs": [],
   "source": [
    "# Verify the bipartite sets\n",
    "editor_nodes_set = {n for n, d in B.nodes(data=True) if d['bipartite'] == 0}\n",
    "page_nodes_set = {n for n, d in B.nodes(data=True) if d['bipartite'] == 1}"
   ]
  },
  {
   "cell_type": "code",
   "execution_count": 14,
   "id": "1ccda5ed-b2ad-4e79-ad90-fa56bd155ea7",
   "metadata": {},
   "outputs": [
    {
     "name": "stdout",
     "output_type": "stream",
     "text": [
      "  Editor nodes in bipartite set: 979\n",
      "  Page nodes in bipartite set: 87\n"
     ]
    }
   ],
   "source": [
    "print(f\"  Editor nodes in bipartite set: {len(editor_nodes_set)}\")\n",
    "print(f\"  Page nodes in bipartite set: {len(page_nodes_set)}\")"
   ]
  },
  {
   "cell_type": "markdown",
   "id": "a0640fff-7ad0-4f6c-8ce3-edfdc40d518f",
   "metadata": {},
   "source": [
    "#### Create simple editor projection (unweighted)"
   ]
  },
  {
   "cell_type": "code",
   "execution_count": 16,
   "id": "8fd51b63-4987-45ad-9c4a-bcdd6c90dbf3",
   "metadata": {},
   "outputs": [],
   "source": [
    "# Project onto editor nodes (bipartite=0)\n",
    "editor_projection_simple = bipartite.projected_graph(B, editor_nodes_set)"
   ]
  },
  {
   "cell_type": "code",
   "execution_count": 17,
   "id": "9620771c-5eaf-453e-9c86-4a1eae1c3fb1",
   "metadata": {},
   "outputs": [
    {
     "name": "stdout",
     "output_type": "stream",
     "text": [
      "Simple editor projection:\n",
      "  Nodes: 979\n",
      "  Edges: 11680\n"
     ]
    }
   ],
   "source": [
    "print(f\"Simple editor projection:\")\n",
    "print(f\"  Nodes: {editor_projection_simple.number_of_nodes()}\")\n",
    "print(f\"  Edges: {editor_projection_simple.number_of_edges()}\")"
   ]
  },
  {
   "cell_type": "code",
   "execution_count": 19,
   "id": "127f66b9-a68c-4a19-a264-da97b5d1d4c7",
   "metadata": {},
   "outputs": [],
   "source": [
    "# Add editor names as node attributes\n",
    "for node in editor_projection_simple.nodes():\n",
    "    # Find the editor name from nodelist\n",
    "    editor_name = nodelist_df[nodelist_df[EDITOR_ID_COL] == node][EDITOR_NAME_COL].iloc[0]\n",
    "    editor_projection_simple.nodes[node]['label'] = editor_name"
   ]
  },
  {
   "cell_type": "code",
   "execution_count": 20,
   "id": "c9fefd87-0d7d-4745-8dfe-9a044690d2c4",
   "metadata": {},
   "outputs": [
    {
     "name": "stdout",
     "output_type": "stream",
     "text": [
      "  Density: 0.0244\n",
      "  Connected components: 11\n",
      "  Degree range: 0 - 365\n",
      "  Average degree: 23.86\n",
      "\n",
      "Sample connections (editors who edited same pages):\n",
      "  Rjensen ↔ Student7\n",
      "  Rjensen ↔ ClueBot NG\n",
      "  Rjensen ↔ 98.239.93.41\n",
      "  Rjensen ↔ J. Finkelstein\n",
      "  Rjensen ↔ Fenice\n"
     ]
    }
   ],
   "source": [
    "# Show some basic network statistics\n",
    "if editor_projection_simple.number_of_edges() > 0:\n",
    "    print(f\"  Density: {nx.density(editor_projection_simple):.4f}\")\n",
    "    print(f\"  Connected components: {nx.number_connected_components(editor_projection_simple)}\")\n",
    "    # Show degree distribution\n",
    "    degrees = [d for n, d in editor_projection_simple.degree()]\n",
    "    print(f\"  Degree range: {min(degrees)} - {max(degrees)}\")\n",
    "    print(f\"  Average degree: {sum(degrees)/len(degrees):.2f}\")\n",
    "    # Show sample edges\n",
    "    print(f\"\\nSample connections (editors who edited same pages):\")\n",
    "    sample_edges = list(editor_projection_simple.edges())[:5]\n",
    "    for edge in sample_edges:\n",
    "        editor1_name = editor_projection_simple.nodes[edge[0]]['label']\n",
    "        editor2_name = editor_projection_simple.nodes[edge[1]]['label']\n",
    "        print(f\"  {editor1_name} ↔ {editor2_name}\")"
   ]
  },
  {
   "cell_type": "markdown",
   "id": "c87e4321-5f44-4d4e-bb91-5149f592f5d1",
   "metadata": {},
   "source": [
    "#### Create weighted editor projection using Jaccard similarity"
   ]
  },
  {
   "cell_type": "markdown",
   "id": "a90ea4f3-b6b6-4f26-a820-45e782e9dada",
   "metadata": {},
   "source": [
    "You can also calculate Jaccard similarity (with weights only) with networkX inbuilt *overlap_weighted_projected_graph* algorithm with jaccard=True parameter. Here it is done manually to reflect shared pages.\n",
    "https://networkx.org/documentation/stable/reference/algorithms/generated/networkx.algorithms.bipartite.projection.overlap_weighted_projected_graph.html#networkx.algorithms.bipartite.projection.overlap_weighted_projected_graph"
   ]
  },
  {
   "cell_type": "code",
   "execution_count": 21,
   "id": "d8f96e77-b221-4b24-a540-56a682d2f57b",
   "metadata": {},
   "outputs": [],
   "source": [
    "# Create weighted projection manually to use Jaccard similarity\n",
    "editor_projection_weighted = nx.Graph()"
   ]
  },
  {
   "cell_type": "code",
   "execution_count": 22,
   "id": "bcf04adf-25e8-4923-9efc-f3babc27d184",
   "metadata": {},
   "outputs": [],
   "source": [
    "# Add all editor nodes\n",
    "for node in editor_nodes_set:\n",
    "    editor_name = nodelist_df[nodelist_df[EDITOR_ID_COL] == node][EDITOR_NAME_COL].iloc[0]\n",
    "    editor_projection_weighted.add_node(node, label=editor_name)"
   ]
  },
  {
   "cell_type": "code",
   "execution_count": 23,
   "id": "f26eefe6-634d-4592-a46d-d326bb46095f",
   "metadata": {},
   "outputs": [],
   "source": [
    "# Get pages edited by each editor from the bipartite graph\n",
    "editor_pages = {}\n",
    "for editor in editor_nodes_set:\n",
    "    # Get all pages this editor is connected to in the bipartite graph\n",
    "    pages_edited = set(B.neighbors(editor))\n",
    "    editor_pages[editor] = pages_edited"
   ]
  },
  {
   "cell_type": "code",
   "execution_count": 24,
   "id": "c17e3472-7604-4b29-8af5-10398d8c740d",
   "metadata": {},
   "outputs": [],
   "source": [
    "# Calculate Jaccard similarities between all pairs of editors\n",
    "editor_list = list(editor_nodes_set)\n",
    "jaccard_edges = []\n"
   ]
  },
  {
   "cell_type": "code",
   "execution_count": 25,
   "id": "4d47a8a7-0b00-405b-b498-09203b99a6c0",
   "metadata": {},
   "outputs": [
    {
     "name": "stdout",
     "output_type": "stream",
     "text": [
      "  Processing editor 0/979\n",
      "  Processing editor 50/979\n",
      "  Processing editor 100/979\n",
      "  Processing editor 150/979\n",
      "  Processing editor 200/979\n",
      "  Processing editor 250/979\n",
      "  Processing editor 300/979\n",
      "  Processing editor 350/979\n",
      "  Processing editor 400/979\n",
      "  Processing editor 450/979\n",
      "  Processing editor 500/979\n",
      "  Processing editor 550/979\n",
      "  Processing editor 600/979\n",
      "  Processing editor 650/979\n",
      "  Processing editor 700/979\n",
      "  Processing editor 750/979\n",
      "  Processing editor 800/979\n",
      "  Processing editor 850/979\n",
      "  Processing editor 900/979\n",
      "  Processing editor 950/979\n",
      "\n",
      "Weighted editor projection (Jaccard similarity):\n",
      "  Nodes: 979\n",
      "  Edges: 11680\n"
     ]
    }
   ],
   "source": [
    "for i, editor1 in enumerate(editor_list):\n",
    "    if i % 50 == 0:  # Progress indicator\n",
    "        print(f\"  Processing editor {i}/{len(editor_list)}\")\n",
    "    \n",
    "    for editor2 in editor_list[i+1:]:  # Only calculate upper triangle\n",
    "        pages1 = editor_pages[editor1]\n",
    "        pages2 = editor_pages[editor2]\n",
    "        \n",
    "        # Calculate Jaccard similarity\n",
    "        intersection = len(pages1 & pages2)\n",
    "        union = len(pages1 | pages2)\n",
    "        \n",
    "        if union > 0 and intersection > 0:  # Only add edges for editors with shared pages\n",
    "            jaccard_similarity = intersection / union\n",
    "            \n",
    "            # Add edge with Jaccard weight and additional info\n",
    "            editor_projection_weighted.add_edge(editor1, editor2, \n",
    "                                               jaccard_weight=jaccard_similarity,\n",
    "                                               shared_pages=intersection,\n",
    "                                               total_unique_pages=union)\n",
    "            jaccard_edges.append((editor1, editor2, jaccard_similarity))\n",
    "\n",
    "print(f\"\\nWeighted editor projection (Jaccard similarity):\")\n",
    "print(f\"  Nodes: {editor_projection_weighted.number_of_nodes()}\")\n",
    "print(f\"  Edges: {editor_projection_weighted.number_of_edges()}\")"
   ]
  },
  {
   "cell_type": "code",
   "execution_count": 26,
   "id": "e28d78cd-fc0d-4f32-9659-9c25bf4568ce",
   "metadata": {},
   "outputs": [
    {
     "name": "stdout",
     "output_type": "stream",
     "text": [
      "  Jaccard weight range: 0.0312 - 1.0000\n",
      "  Average Jaccard weight: 0.5936\n",
      "\n",
      "Top 5 most similar editor pairs:\n",
      "  1. 98.239.93.41 ↔ J. Finkelstein\n",
      "     Jaccard: 1.0000 (1 shared / 1 total pages)\n",
      "  2. 98.239.93.41 ↔ Fenice\n",
      "     Jaccard: 1.0000 (1 shared / 1 total pages)\n",
      "  3. 98.239.93.41 ↔ Ericdn\n",
      "     Jaccard: 1.0000 (1 shared / 1 total pages)\n",
      "  4. 98.239.93.41 ↔ Michael Snow\n",
      "     Jaccard: 1.0000 (1 shared / 1 total pages)\n",
      "  5. 98.239.93.41 ↔ Stevertigo\n",
      "     Jaccard: 1.0000 (1 shared / 1 total pages)\n"
     ]
    }
   ],
   "source": [
    "if len(jaccard_edges) > 0:\n",
    "    jaccard_weights = [weight for _, _, weight in jaccard_edges]\n",
    "    print(f\"  Jaccard weight range: {min(jaccard_weights):.4f} - {max(jaccard_weights):.4f}\")\n",
    "    print(f\"  Average Jaccard weight: {sum(jaccard_weights)/len(jaccard_weights):.4f}\")\n",
    "    \n",
    "    # Show highest similarity pairs\n",
    "    jaccard_edges.sort(key=lambda x: x[2], reverse=True)\n",
    "    print(f\"\\nTop 5 most similar editor pairs:\")\n",
    "    for i, (e1, e2, weight) in enumerate(jaccard_edges[:5]):\n",
    "        name1 = editor_projection_weighted.nodes[e1]['label']\n",
    "        name2 = editor_projection_weighted.nodes[e2]['label']\n",
    "        shared = editor_projection_weighted[e1][e2]['shared_pages']\n",
    "        total = editor_projection_weighted[e1][e2]['total_unique_pages']\n",
    "        print(f\"  {i+1}. {name1} ↔ {name2}\")\n",
    "        print(f\"     Jaccard: {weight:.4f} ({shared} shared / {total} total pages)\")"
   ]
  },
  {
   "cell_type": "markdown",
   "id": "51e54e58-4106-4f44-9554-d771aa8690eb",
   "metadata": {},
   "source": [
    "This approach overstresses cases where two editors have exactly one page in common (because then you have a 100% overlap and therefore high similarity). "
   ]
  },
  {
   "cell_type": "markdown",
   "id": "65c42a83-00f3-4ec1-8e3b-5a23a2e0baec",
   "metadata": {},
   "source": [
    "#### Create alternative weighted projection using edit counts (activity based)"
   ]
  },
  {
   "cell_type": "code",
   "execution_count": 27,
   "id": "a613ffdd-08d7-4d6f-945e-d793d926f755",
   "metadata": {},
   "outputs": [],
   "source": [
    "# This creates edges weighted by the sum of edit counts on shared pages\n",
    "editor_projection_edits = nx.Graph()"
   ]
  },
  {
   "cell_type": "code",
   "execution_count": 29,
   "id": "f293a149-aa93-4536-9ae6-d4d63277be91",
   "metadata": {},
   "outputs": [],
   "source": [
    "# Add all editor nodes\n",
    "for node in editor_nodes_set:\n",
    "    editor_name = nodelist_df[nodelist_df[EDITOR_ID_COL] == node][EDITOR_NAME_COL].iloc[0]\n",
    "    editor_projection_edits.add_node(node, label=editor_name)"
   ]
  },
  {
   "cell_type": "code",
   "execution_count": 30,
   "id": "8140e855-66a4-4c10-8f9d-cb324d53447c",
   "metadata": {},
   "outputs": [],
   "source": [
    "# Get edit counts for each editor-page pair\n",
    "editor_page_edits = {}\n",
    "for _, row in edgelist_df.iterrows():\n",
    "    editor = row[SOURCE_COL]\n",
    "    page = row[TARGET_COL]\n",
    "    edits = row['weight']\n",
    "    \n",
    "    if editor not in editor_page_edits:\n",
    "        editor_page_edits[editor] = {}\n",
    "    editor_page_edits[editor][page] = edits"
   ]
  },
  {
   "cell_type": "code",
   "execution_count": 31,
   "id": "876a0b4b-ee6c-4669-bb33-62df7138d764",
   "metadata": {},
   "outputs": [
    {
     "name": "stdout",
     "output_type": "stream",
     "text": [
      "  Processing editor 0/979\n",
      "  Processing editor 50/979\n",
      "  Processing editor 100/979\n",
      "  Processing editor 150/979\n",
      "  Processing editor 200/979\n",
      "  Processing editor 250/979\n",
      "  Processing editor 300/979\n",
      "  Processing editor 350/979\n",
      "  Processing editor 400/979\n",
      "  Processing editor 450/979\n",
      "  Processing editor 500/979\n",
      "  Processing editor 550/979\n",
      "  Processing editor 600/979\n",
      "  Processing editor 650/979\n",
      "  Processing editor 700/979\n",
      "  Processing editor 750/979\n",
      "  Processing editor 800/979\n",
      "  Processing editor 850/979\n",
      "  Processing editor 900/979\n",
      "  Processing editor 950/979\n"
     ]
    }
   ],
   "source": [
    "# Calculate edit-based weights between editors\n",
    "for i, editor1 in enumerate(editor_list):\n",
    "    if i % 50 == 0:\n",
    "        print(f\"  Processing editor {i}/{len(editor_list)}\")\n",
    "    \n",
    "    for editor2 in editor_list[i+1:]:\n",
    "        # Find shared pages\n",
    "        pages1 = set(editor_page_edits.get(editor1, {}).keys())\n",
    "        pages2 = set(editor_page_edits.get(editor2, {}).keys())\n",
    "        shared_pages = pages1 & pages2\n",
    "        \n",
    "        if len(shared_pages) > 0:\n",
    "            # Calculate total edits on shared pages\n",
    "            total_shared_edits = 0\n",
    "            for page in shared_pages:\n",
    "                edits1 = editor_page_edits[editor1][page]\n",
    "                edits2 = editor_page_edits[editor2][page]\n",
    "                total_shared_edits += edits1 + edits2\n",
    "            \n",
    "            # Add edge with edit-based weight\n",
    "            editor_projection_edits.add_edge(editor1, editor2,\n",
    "                                           edit_weight=total_shared_edits,\n",
    "                                           shared_pages=len(shared_pages))"
   ]
  },
  {
   "cell_type": "code",
   "execution_count": 32,
   "id": "43b6f544-e181-46ab-b8c4-ae2e98dab026",
   "metadata": {},
   "outputs": [
    {
     "name": "stdout",
     "output_type": "stream",
     "text": [
      "\n",
      "Edit-weighted editor projection:\n",
      "  Nodes: 979\n",
      "  Edges: 11680\n"
     ]
    }
   ],
   "source": [
    "print(f\"\\nEdit-weighted editor projection:\")\n",
    "print(f\"  Nodes: {editor_projection_edits.number_of_nodes()}\")\n",
    "print(f\"  Edges: {editor_projection_edits.number_of_edges()}\")"
   ]
  },
  {
   "cell_type": "code",
   "execution_count": 33,
   "id": "96872d12-a899-47fb-a143-b28cc4272042",
   "metadata": {},
   "outputs": [
    {
     "name": "stdout",
     "output_type": "stream",
     "text": [
      "  Edit weight range: 2 - 1041\n",
      "  Average edit weight: 27.62\n",
      "\n",
      "Top 5 editor pairs by total edits on shared pages:\n",
      "  1. Balloonman ↔ 98.245.148.9\n",
      "     Total edits on shared pages: 1041 (1 shared pages)\n",
      "  2. Deisenbe ↔ Malik Shabazz\n",
      "     Total edits on shared pages: 961 (3 shared pages)\n",
      "  3. Parkwells ↔ Deisenbe\n",
      "     Total edits on shared pages: 889 (5 shared pages)\n",
      "  4. Deisenbe ↔ North Shoreman\n",
      "     Total edits on shared pages: 853 (3 shared pages)\n",
      "  5. Balloonman ↔ Telemachus.forward\n",
      "     Total edits on shared pages: 828 (1 shared pages)\n"
     ]
    }
   ],
   "source": [
    "if editor_projection_edits.number_of_edges() > 0:\n",
    "    edit_weights = [d['edit_weight'] for u, v, d in editor_projection_edits.edges(data=True)]\n",
    "    print(f\"  Edit weight range: {min(edit_weights)} - {max(edit_weights)}\")\n",
    "    print(f\"  Average edit weight: {sum(edit_weights)/len(edit_weights):.2f}\")\n",
    "    \n",
    "    # Show highest edit-weighted pairs\n",
    "    edit_edges = [(u, v, d['edit_weight']) for u, v, d in editor_projection_edits.edges(data=True)]\n",
    "    edit_edges.sort(key=lambda x: x[2], reverse=True)\n",
    "    \n",
    "    print(f\"\\nTop 5 editor pairs by total edits on shared pages:\")\n",
    "    for i, (e1, e2, weight) in enumerate(edit_edges[:5]):\n",
    "        name1 = editor_projection_edits.nodes[e1]['label']\n",
    "        name2 = editor_projection_edits.nodes[e2]['label']\n",
    "        shared = editor_projection_edits[e1][e2]['shared_pages']\n",
    "        print(f\"  {i+1}. {name1} ↔ {name2}\")\n",
    "        print(f\"     Total edits on shared pages: {weight} ({shared} shared pages)\")"
   ]
  },
  {
   "cell_type": "markdown",
   "id": "e8e98c6b-c4ba-44e3-ae61-52bbd20b7895",
   "metadata": {},
   "source": [
    "#### Save new network data"
   ]
  },
  {
   "cell_type": "code",
   "execution_count": 34,
   "id": "a8cd8a87-1493-4a82-8bc3-73e16a7dc91b",
   "metadata": {},
   "outputs": [],
   "source": [
    "# Save the different projections as edgelists\n",
    "# Simple projection\n",
    "if editor_projection_simple.number_of_edges() > 0:\n",
    "    simple_edges = []\n",
    "    for u, v in editor_projection_simple.edges():\n",
    "        name1 = editor_projection_simple.nodes[u]['label']\n",
    "        name2 = editor_projection_simple.nodes[v]['label']\n",
    "        simple_edges.append({'source': u, 'target': v, 'source_name': name1, 'target_name': name2})\n",
    "    \n",
    "    pd.DataFrame(simple_edges).to_csv('editor_projection_simple.csv', index=False)"
   ]
  },
  {
   "cell_type": "code",
   "execution_count": 35,
   "id": "185d8dab-9327-4429-8c77-fb1425aace03",
   "metadata": {},
   "outputs": [],
   "source": [
    "# Jaccard weighted projection\n",
    "if editor_projection_weighted.number_of_edges() > 0:\n",
    "    jaccard_edges_data = []\n",
    "    for u, v, d in editor_projection_weighted.edges(data=True):\n",
    "        name1 = editor_projection_weighted.nodes[u]['label']\n",
    "        name2 = editor_projection_weighted.nodes[v]['label']\n",
    "        jaccard_edges_data.append({\n",
    "            'source': u, 'target': v,\n",
    "            'source_name': name1, 'target_name': name2,\n",
    "            'jaccard_weight': d['jaccard_weight'],\n",
    "            'shared_pages': d['shared_pages'],\n",
    "            'total_unique_pages': d['total_unique_pages']\n",
    "        })\n",
    "    \n",
    "    pd.DataFrame(jaccard_edges_data).to_csv('editor_projection_jaccard.csv', index=False)"
   ]
  },
  {
   "cell_type": "code",
   "execution_count": 36,
   "id": "5182b288-0808-40d3-baf1-0d8b7fe9416e",
   "metadata": {},
   "outputs": [],
   "source": [
    "# Edit weighted projection\n",
    "if editor_projection_edits.number_of_edges() > 0:\n",
    "    edit_edges_data = []\n",
    "    for u, v, d in editor_projection_edits.edges(data=True):\n",
    "        name1 = editor_projection_edits.nodes[u]['label']\n",
    "        name2 = editor_projection_edits.nodes[v]['label']\n",
    "        edit_edges_data.append({\n",
    "            'source': u, 'target': v,\n",
    "            'source_name': name1, 'target_name': name2,\n",
    "            'edit_weight': d['edit_weight'],\n",
    "            'shared_pages': d['shared_pages']\n",
    "        })\n",
    "    \n",
    "    pd.DataFrame(edit_edges_data).to_csv('editor_projection_edits.csv', index=False)"
   ]
  }
 ],
 "metadata": {
  "kernelspec": {
   "display_name": "Python 3 (ipykernel)",
   "language": "python",
   "name": "python3"
  },
  "language_info": {
   "codemirror_mode": {
    "name": "ipython",
    "version": 3
   },
   "file_extension": ".py",
   "mimetype": "text/x-python",
   "name": "python",
   "nbconvert_exporter": "python",
   "pygments_lexer": "ipython3",
   "version": "3.9.16"
  }
 },
 "nbformat": 4,
 "nbformat_minor": 5
}
