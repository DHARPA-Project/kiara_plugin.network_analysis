{
 "cells": [
  {
   "cell_type": "markdown",
   "id": "title",
   "metadata": {},
   "source": [
    "# Getting Started with Kiara Network Analysis\n",
    "\n",
    "This notebook demonstrates how to use the kiara network analysis plugin to load, process, and visualize network data.\n",
    "\n",
    "## Prerequisites\n",
    "\n",
    "Make sure you have the following files ready:\n",
    "- An edges file (CSV format with source and target columns)\n",
    "- A nodes file (CSV format with node information)\n",
    "\n",
    "You can upload these files or place them in a known location on your system."
   ]
  },
  {
   "cell_type": "code",
   "execution_count": null,
   "id": "imports",
   "metadata": {},
   "outputs": [],
   "source": [
    "from pathlib import Path\n",
    "# Import required libraries\n",
    "from kiara.api import KiaraAPI\n",
    "from kiara.interfaces.cli import terminal_print\n",
    "import rustworkx as rx\n",
    "from rustworkx.visualization import graphviz_draw, mpl_draw\n",
    "import matplotlib.pyplot as plt\n",
    "from kiara_plugin.network_analysis.defaults import LABEL_COLUMN_NAME\n",
    "import altair as alt\n",
    "import plotly.graph_objects as go\n",
    "import plotly.io as pio\n",
    "import pandas as pd\n",
    "from typing import Union\n",
    "from kiara.models.values.value import Value\n",
    "from kiara_plugin.network_analysis.models import NetworkData\n",
    "from kiara_plugin.network_analysis.utils import extract_network_data\n",
    "from kiara_plugin.network_analysis.utils.notebooks.jupyter import prepare_mpl_graph_jupyter, \\\n",
    "    prepare_altair_graph_jupyter\n",
    "from kiara_plugin.network_analysis.utils.notebooks.jupyter import prepare_plotly_graph_jupyter\n",
    "\n",
    "\n",
    "\n",
    "def create_table(path: Union[str, Path, None])-> Union[str, Value]:\n",
    "    if path is None:\n",
    "        return None\n",
    "    elif isinstance(path, Path):\n",
    "        path = path.as_posix()\n",
    "\n",
    "    kiara_file = kiara.run_job(\"import.local.file\", inputs={\"path\": path})[\"file\"]\n",
    "    kiara_table = kiara.run_job(\"create.table.from.file\", inputs={\"file\": kiara_file})[\"table\"]\n",
    "\n",
    "    return kiara_table\n",
    "\n",
    "# Initialize Kiara API\n",
    "kiara = KiaraAPI.instance()\n",
    "kiara.set_active_context(\"network_analysis\", create=True)\n",
    "\n",
    "print(\"Kiara network analysis environment initialized!\")"
   ]
  },
  {
   "cell_type": "markdown",
   "id": "file_loading_instructions",
   "metadata": {},
   "source": [
    "## File Loading\n",
    "\n",
    "Update the file paths below to point to your edges and nodes files:"
   ]
  },
  {
   "cell_type": "code",
   "execution_count": null,
   "id": "file_paths",
   "metadata": {},
   "outputs": [],
   "source": [
    "# Update these paths to point to your actual files\n",
    "edges_file_path = \"/home/markus/projects/kiara/plugins/kiara_plugin.network_analysis/examples/data/journals/JournalEdges1902.csv\"  # Update this path\n",
    "nodes_file_path = \"/home/markus/projects/kiara/plugins/kiara_plugin.network_analysis/examples/data/journals/JournalNodes1902.csv\"  # Update this path (optional)\n",
    "\n",
    "# Set to None if you don't have a nodes file\n",
    "# nodes_file_path = None\n",
    "\n",
    "print(f\"Edges file: {edges_file_path}\")\n",
    "print(f\"Nodes file: {nodes_file_path}\")"
   ]
  },
  {
   "cell_type": "code",
   "execution_count": null,
   "id": "load_tables",
   "metadata": {},
   "outputs": [],
   "source": [
    "# Load the tables\n",
    "edges_table = create_table(edges_file_path)\n",
    "if edges_table is not None:\n",
    "    print(\"Edges table loaded successfully!\")\n",
    "else:\n",
    "    print(\"Edges table not loaded - please check the file path\")\n",
    "\n",
    "nodes_table = create_table(nodes_file_path)\n",
    "if nodes_table is not None:\n",
    "    print(\"Nodes table loaded successfully!\")\n",
    "else:\n",
    "    print(\"Nodes table not loaded (this is optional)\")\n"
   ]
  },
  {
   "cell_type": "code",
   "execution_count": null,
   "id": "create_network",
   "metadata": {},
   "outputs": [],
   "source": [
    "# Create network data\n",
    "if edges_table is not None:\n",
    "    assemble_inputs = {\n",
    "        \"edges\": edges_table,\n",
    "        \"nodes\": nodes_table\n",
    "    }\n",
    "    kiara_network_data = kiara.run_job(\"assemble.network_data\", inputs=assemble_inputs)[\"network_data\"]\n",
    "    print(\"Network data created successfully!\")\n",
    "else:\n",
    "    kiara_network_data = None\n",
    "    print(\"Cannot create network data without edges table\")"
   ]
  },
  {
   "cell_type": "markdown",
   "id": "visualization_section",
   "metadata": {},
   "source": [
    "## Network Visualization\n",
    "\n",
    "Now let's create different visualizations of the network data:"
   ]
  },
  {
   "cell_type": "code",
   "execution_count": null,
   "id": "matplotlib_viz",
   "metadata": {},
   "outputs": [],
   "source": [
    "\n",
    "# Create matplotlib visualization\n",
    "prepare_mpl_graph_jupyter(kiara_network_data)"
   ]
  },
  {
   "cell_type": "code",
   "execution_count": null,
   "id": "plotly_viz",
   "metadata": {},
   "outputs": [],
   "source": [
    "# Create Plotly visualization\n",
    "fig = prepare_plotly_graph_jupyter(kiara_network_data)\n",
    "if fig:\n",
    "    fig.show()"
   ]
  },
  {
   "cell_type": "code",
   "execution_count": null,
   "id": "altair_viz",
   "metadata": {},
   "outputs": [],
   "source": [
    "\n",
    "\n",
    "# Create Altair visualization\n",
    "chart = prepare_altair_graph_jupyter(kiara_network_data)\n",
    "if chart:\n",
    "    chart.show()"
   ]
  },
  {
   "cell_type": "markdown",
   "id": "conclusion",
   "metadata": {},
   "source": [
    "## Summary\n",
    "\n",
    "This notebook demonstrated how to:\n",
    "\n",
    "1. **Initialize the Kiara environment** for network analysis\n",
    "2. **Load network data** from CSV files (edges and optionally nodes)\n",
    "3. **Create network data objects** using Kiara's data processing pipeline\n",
    "4. **Visualize networks** using three different approaches:\n",
    "   - **Matplotlib**: Static visualization with basic layout\n",
    "   - **Plotly**: Interactive visualization with hover effects and zoom/pan\n",
    "   - **Altair**: Interactive visualization with selection capabilities\n",
    "\n",
    "### Next Steps\n",
    "\n",
    "- Try loading your own network data files\n",
    "- Experiment with different visualization parameters\n",
    "- Explore additional Kiara network analysis operations\n",
    "- Use the network data for further analysis or export to other formats\n",
    "\n",
    "### Tips\n",
    "\n",
    "- Make sure your edges file has at least 'source' and 'target' columns\n",
    "- Node files are optional but can provide additional metadata\n",
    "- All visualizations use RustWorkX as the underlying graph library for performance\n",
    "- Interactive features work best in JupyterLab or modern Jupyter environments"
   ]
  }
 ],
 "metadata": {
  "kernelspec": {
   "display_name": "Python 3",
   "language": "python",
   "name": "python3"
  },
  "language_info": {
   "codemirror_mode": {
    "name": "ipython",
    "version": 3
   },
   "file_extension": ".py",
   "mimetype": "text/x-python",
   "name": "python",
   "nbconvert_exporter": "python",
   "pygments_lexer": "ipython3"
  }
 },
 "nbformat": 4,
 "nbformat_minor": 5
}
